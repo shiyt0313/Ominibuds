{
 "cells": [
  {
   "cell_type": "code",
   "execution_count": 2,
   "metadata": {},
   "outputs": [
    {
     "name": "stdout",
     "output_type": "stream",
     "text": [
      "Device: None, MAC: 1C:86:9A:DA:9E:0B\n",
      "Device: None, MAC: 6C:7B:AB:74:18:0E\n",
      "Device: None, MAC: 40:10:B6:7A:BA:E5\n",
      "Device: None, MAC: 00:04:79:00:0E:16\n",
      "Device: [TV] Samsung TU7000 60 TV ven, MAC: A0:D7:F3:A5:ED:9B\n",
      "Device: None, MAC: 46:3E:D6:F3:8A:BD\n",
      "Device: None, MAC: 55:C6:A8:97:56:8C\n",
      "Device: None, MAC: 88:6B:0F:49:30:91\n",
      "Device: None, MAC: 1C:86:9A:D9:94:89\n",
      "Device: None, MAC: 74:F2:9E:F9:51:24\n",
      "Device: None, MAC: 13:C2:DF:3A:EE:D6\n",
      "Device: None, MAC: 43:72:89:DF:D9:DF\n",
      "Device: None, MAC: CC:A7:C1:3C:21:9E\n",
      "Device: None, MAC: 76:65:C7:EE:7C:A6\n",
      "Device: None, MAC: 1C:86:9A:DA:9D:93\n",
      "Device: None, MAC: 1C:86:9A:DA:A0:0F\n",
      "Device: LE-Bose Flex SoundLink, MAC: 50:A1:7B:3E:FD:62\n",
      "Device: None, MAC: D1:71:ED:A7:77:A0\n",
      "Device: None, MAC: CD:66:1E:B5:D9:06\n",
      "Device: None, MAC: 41:7D:E5:65:E3:EB\n",
      "Device: None, MAC: 7C:64:56:9B:04:E3\n",
      "Device: None, MAC: E3:6B:5A:0D:96:CD\n",
      "Device: None, MAC: 66:6D:EB:DE:FC:74\n",
      "Device: None, MAC: 5F:67:E1:D4:44:8B\n",
      "Device: None, MAC: 5F:E8:A1:AC:BB:6A\n",
      "Device: None, MAC: D9:F0:18:38:C9:9E\n",
      "Device: None, MAC: D5:97:F2:70:E3:EF\n",
      "Device: None, MAC: ED:A8:66:A8:00:23\n",
      "Device: None, MAC: 1C:86:9A:66:B3:9D\n",
      "Device: None, MAC: 16:BA:F7:0F:4D:53\n",
      "Device: None, MAC: 61:D5:0E:D5:1E:88\n",
      "Device: None, MAC: 7F:15:B7:F2:44:72\n"
     ]
    }
   ],
   "source": [
    "import asyncio\n",
    "from bleak import BleakScanner\n",
    "\n",
    "async def scan_devices():\n",
    "    devices = await BleakScanner.discover()\n",
    "    for device in devices:\n",
    "        print(f\"Device: {device.name}, MAC: {device.address}\")\n",
    "\n",
    "# Run the scanner\n",
    "await scan_devices()"
   ]
  },
  {
   "cell_type": "code",
   "execution_count": 6,
   "metadata": {},
   "outputs": [],
   "source": [
    "import asyncio\n",
    "from bleak import BleakScanner\n",
    "\n",
    "async def find_uuid():\n",
    "    devices = await BleakScanner.discover()\n",
    "    for device in devices:\n",
    "        if device.name and \"eSense\" in device.name:  # Adjust based on the device name\n",
    "            print(f\"Device: {device.name}, UUID: {device.address}\")\n",
    "\n",
    "await find_uuid()"
   ]
  }
 ],
 "metadata": {
  "kernelspec": {
   "display_name": "base",
   "language": "python",
   "name": "python3"
  },
  "language_info": {
   "codemirror_mode": {
    "name": "ipython",
    "version": 3
   },
   "file_extension": ".py",
   "mimetype": "text/x-python",
   "name": "python",
   "nbconvert_exporter": "python",
   "pygments_lexer": "ipython3",
   "version": "3.12.4"
  }
 },
 "nbformat": 4,
 "nbformat_minor": 2
}
