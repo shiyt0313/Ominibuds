{
 "cells": [
  {
   "cell_type": "code",
   "execution_count": 7,
   "metadata": {},
   "outputs": [
    {
     "name": "stdout",
     "output_type": "stream",
     "text": [
      "Device: None, MAC: 7592F45F-9354-971F-D68B-78E2AE3D0ED2\n",
      "Device: None, MAC: 55A13623-C1AC-E015-A215-CBC9E4201D1E\n",
      "Device: None, MAC: D9271367-D3F0-6B56-656E-E80080956E76\n",
      "Device: None, MAC: 8223463D-B516-FFE4-3284-B5329F2D0786\n",
      "Device: LE_WH-1000XM4, MAC: ACB1CC10-B2C7-DF26-7D80-9A235E72A064\n",
      "Device: None, MAC: 29F34CB7-4024-8D1C-E30B-280C6A8EEA43\n",
      "Device: None, MAC: 8443599E-878C-87BD-49EB-0BDACDACCFAE\n",
      "Device: None, MAC: F2787B4E-4347-B59F-16C8-6D2E922B4888\n",
      "Device: Vertuo_DV6_08B61F587D7A, MAC: E84CAEDA-F392-4B86-C999-F62A8E14AFBF\n",
      "Device: None, MAC: D114FF5C-303E-F5B4-23A1-B4C2EA35E902\n",
      "Device: None, MAC: 42475966-6C4C-F004-D880-D6D89B90EA6D\n",
      "Device: None, MAC: 6529F805-9804-E213-2FD3-C85F3AC9BF7C\n",
      "Device: None, MAC: D9B05A6E-4FED-196D-6FCC-05E86F232AB1\n",
      "Device: None, MAC: 70BF5D9A-2094-7439-9805-704DBD7062D8\n",
      "Device: None, MAC: 653442ED-9FFA-9262-D1CC-E49842006165\n",
      "Device: None, MAC: 7E4AB2DF-232A-5E6C-DA9C-BE633081F472\n",
      "Device: None, MAC: AD432A2E-86DE-808C-D746-BBE5184D5FF8\n",
      "Device: None, MAC: B28934E6-E622-A060-50DC-5579A834B084\n",
      "Device: None, MAC: A0F2E5FF-5C8C-B6FA-73A1-BAF8D6925360\n",
      "Device: None, MAC: 81BB09A3-E117-7A1A-E7B8-7D7067F9908B\n",
      "Device: None, MAC: 95FE392A-928F-EF6E-753D-F74511D035E8\n",
      "Device: None, MAC: E7EA5921-A1A6-7B4F-55EE-2E2528D88AD9\n",
      "Device: None, MAC: 6A525512-E3C7-58DC-AFFA-F6E2D93DBE7D\n",
      "Device: None, MAC: 444D8462-D413-45CB-F69E-9237094AF536\n",
      "Device: None, MAC: F334131B-4D8F-06E3-A836-37B0834B6B8B\n",
      "Device: None, MAC: D41D3319-7AF9-76C1-602D-BE5D85F0DBA2\n",
      "Device: None, MAC: F35EA64A-BB34-4B47-6DE1-B9A3CCC64E62\n",
      "Device: None, MAC: 1CC533F8-8D4D-DF93-AC95-A1FF7B217EC7\n",
      "Device: None, MAC: 64977DFC-3578-F881-0EE2-345143319FF6\n",
      "Device: None, MAC: 86C6CA3D-5F18-41AB-9902-6036BD476869\n",
      "Device: None, MAC: 4E6A88CE-DC16-5400-A1DB-BEE033B2A6F7\n",
      "Device: None, MAC: AA02E0A6-F6E3-A4A7-95C1-CBD27283E42A\n",
      "Device: None, MAC: EBD8DBD9-4C73-245F-84A1-C653785395BB\n",
      "Device: None, MAC: 6FAE051F-1417-8146-FE52-833B7F36887C\n",
      "Device: None, MAC: 8F47EF9D-BE3E-DE48-BC00-6667BE166E28\n",
      "Device: None, MAC: FE173005-8907-6310-C64C-D5A868E7CEDE\n",
      "Device: iPhone 16, MAC: 3FE8CF33-8B0F-2C39-7DF8-0B59E616BCA9\n",
      "Device: AirPods 4, MAC: D2F220EB-A7F7-1C51-0055-D849CB1AB327\n",
      "Device: None, MAC: 561F01CB-9862-94F3-8279-B16C23A64F06\n",
      "Device: None, MAC: B4328B78-62AD-ACDC-F5BE-6ED1549C6AC8\n",
      "Device: None, MAC: 305E7456-A87C-0FE0-E6A9-3FE79021794B\n",
      "Device: None, MAC: 8AD545AF-51CB-7B03-91DB-D4A51D9C0B77\n",
      "Device: None, MAC: 6663C2D5-6843-1601-20E2-5A6F1B4869D0\n",
      "Device: None, MAC: 5472B77F-EF1E-A2A0-2FD8-FF4C490D0651\n",
      "Device: None, MAC: 62AFF94D-2C69-A3BD-031C-5BDABA968B60\n",
      "Device: None, MAC: 933A2794-4266-C13F-4439-5C3273C17112\n",
      "Device: None, MAC: FCA3A60A-AC45-B341-BEA7-F68A86007EAC\n",
      "Device: None, MAC: 1B7852E1-B7A1-7073-44AD-5D750A1F98DC\n",
      "Device: None, MAC: 57AA7B5A-DE9B-BB75-8E19-3FCB9F2A4A5F\n",
      "Device: Seos, MAC: 162F86DF-C66A-E155-C4F6-A04587E75C70\n",
      "Device: None, MAC: 9AC83371-4CDC-4A8D-AA15-1A373F9381B4\n",
      "Device: None, MAC: 5C315076-5C3A-AD63-D544-1B6C13890F14\n",
      "Device: None, MAC: D3FAABA6-B278-9074-DFE1-857E54A27106\n",
      "Device: None, MAC: 4A797044-86D6-C1D8-28F2-1D2CAA1C501E\n",
      "Device: None, MAC: D46D82AD-B5A2-59D3-4F30-59A3B20AB28B\n",
      "Device: None, MAC: CDD44067-C052-F6E8-CAD2-E8605BA49DE3\n",
      "Device: None, MAC: 1C790087-5880-C6C4-DB89-5EEBC3A3D79D\n"
     ]
    }
   ],
   "source": [
    "import asyncio\n",
    "from bleak import BleakScanner\n",
    "\n",
    "async def scan_devices():\n",
    "    devices = await BleakScanner.discover()\n",
    "    for device in devices:\n",
    "        print(f\"Device: {device.name}, MAC: {device.address}\")\n",
    "\n",
    "# Run the scanner\n",
    "await scan_devices()"
   ]
  },
  {
   "cell_type": "code",
   "execution_count": 6,
   "metadata": {},
   "outputs": [],
   "source": [
    "import asyncio\n",
    "from bleak import BleakScanner\n",
    "\n",
    "async def find_uuid():\n",
    "    devices = await BleakScanner.discover()\n",
    "    for device in devices:\n",
    "        if device.name and \"eSense\" in device.name:  # Adjust based on the device name\n",
    "            print(f\"Device: {device.name}, UUID: {device.address}\")\n",
    "\n",
    "await find_uuid()"
   ]
  }
 ],
 "metadata": {
  "kernelspec": {
   "display_name": "esense",
   "language": "python",
   "name": "python3"
  },
  "language_info": {
   "codemirror_mode": {
    "name": "ipython",
    "version": 3
   },
   "file_extension": ".py",
   "mimetype": "text/x-python",
   "name": "python",
   "nbconvert_exporter": "python",
   "pygments_lexer": "ipython3",
   "version": "3.12.9"
  }
 },
 "nbformat": 4,
 "nbformat_minor": 2
}
